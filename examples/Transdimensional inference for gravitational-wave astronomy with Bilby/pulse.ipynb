{
 "cells": [
  {
   "cell_type": "code",
   "execution_count": 3,
   "id": "a68806cf-8c4d-474b-8b83-59aadbb9e54d",
   "metadata": {},
   "outputs": [],
   "source": [
    "import bilby\n",
    "import tbilby\n",
    "import numpy as np\n",
    "import matplotlib.pyplot as plt\n",
    "from scipy.stats import norm\n",
    "from tbilby.core.prior.order_stats import TransdimensionalConditionalDescendingOrderStatPrior"
   ]
  },
  {
   "cell_type": "code",
   "execution_count": 4,
   "id": "f8cbe3eb-a88a-4f55-88aa-50495e567a89",
   "metadata": {},
   "outputs": [],
   "source": [
    "x=np.linspace(0,150,1501)\n",
    "mu=np.array([35, 74, 101])\n",
    "# mock data\n",
    "model=[]\n",
    "mock_data=[]\n",
    "sigma=[10,8,12]\n",
    "A=[1.0,0.8,1.2]\n",
    "for i in range(3):\n",
    "    model.append(norm(mu[i],sigma[i]))\n",
    "    mock_data.append(A[i]*model[i].pdf(x))\n",
    "    \n",
    "noise_model=norm(loc=0,scale=0.15)\n",
    "np.random.seed(1234)\n",
    "mock_noise=noise_model.rvs(1501)\n",
    "\n",
    "data=mock_data[0]+mock_data[1]+mock_data[2]+mock_noise"
   ]
  },
  {
   "cell_type": "code",
   "execution_count": 5,
   "id": "c0c0f148-a23a-42aa-94a9-2ae8ac9901b3",
   "metadata": {},
   "outputs": [],
   "source": [
    "n_peaks=6"
   ]
  },
  {
   "cell_type": "code",
   "execution_count": 6,
   "id": "9419a7db-9eb6-40c2-84ae-00e9514d9619",
   "metadata": {},
   "outputs": [],
   "source": [
    "def conversion_snr_to_amplitude(time, snr, sigma_g, sigma_noise):\n",
    "    return snr*sigma_noise*np.sqrt(2 * np.sqrt(np.pi) * sigma_g * time[1] - time[0])\n",
    "    \n",
    "\n",
    "def gauss_pulse(time, SNR, mu, sigma_g, sigma):\n",
    "    return  conversion_snr_to_amplitude(time, SNR, sigma_g, sigma) * norm(mu,sigma_g).pdf(time)"
   ]
  },
  {
   "cell_type": "code",
   "execution_count": null,
   "id": "588a319e-bf26-4576-9c35-b539343f4209",
   "metadata": {},
   "outputs": [],
   "source": [
    "component_functions_dict={}\n",
    "component_functions_dict[gauss_pulse]=(n_peaks,'mu', 'SNR', 'sigma_g')\n",
    "\n",
    "signal_model = tbilby.core.base.create_transdimensional_model('model',  component_functions_dict,\\\n",
    "                                                       returns_polarization=False,SaveTofile=False)"
   ]
  },
  {
   "cell_type": "code",
   "execution_count": 8,
   "id": "26d3d85a-7a3a-4d26-9608-dd661b7008e2",
   "metadata": {},
   "outputs": [],
   "source": [
    "# Now lets instantiate a version of our GaussianLikelihood, giving it the time, data and signal model\n",
    "time=np.linspace(0,150,1501)\n",
    "likelihood = bilby.likelihood.GaussianLikelihood(time, data, signal_model)"
   ]
  },
  {
   "cell_type": "code",
   "execution_count": 9,
   "id": "f2fbe492-5b1a-4cc4-9eac-48286ce5c8fc",
   "metadata": {},
   "outputs": [],
   "source": [
    "# Here we define the priors\n",
    "class TransdimensionalConditionalDescendingOrderStatPriorSNR(TransdimensionalConditionalDescendingOrderStatPrior):\n",
    "   \n",
    "    def transdimensional_condition_function(self,**required_variables):\n",
    "        \n",
    "        #len(self.SNR.shape[1])\n",
    "        if len(self.SNR)>0:\n",
    "            self._prev_val=self.SNR[-1]\n",
    "            self._this_order_num = self.SNR.shape[0]+1\n",
    "        else:\n",
    "            self.this_order_num = 1\n",
    "            # to handle the first parameter when _pre_val is the pre set int\n",
    "            if isinstance(self.n_gauss_pulse, np.ndarray):\n",
    "                self._prev_val = self.minimum * np.ones(self.n_gauss_pulse.shape)\n",
    "        try:\n",
    "            self._tot_order_num=self.n_gauss_pulse.astype(int)\n",
    "        except:\n",
    "            self._tot_order_num=int(self.n_gauss_pulse)\n",
    "        return dict(_prev_val=self._prev_val,_this_order_num=self._this_order_num, _tot_order_num=self._tot_order_num)"
   ]
  },
  {
   "cell_type": "code",
   "execution_count": 10,
   "id": "14495356-baf6-43fb-b15b-59b741aeae73",
   "metadata": {},
   "outputs": [],
   "source": [
    "priors = bilby.core.prior.dict.ConditionalPriorDict()\n",
    "priors = tbilby.core.base.create_transdimensional_priors(transdimensional_prior_class=TransdimensionalConditionalDescendingOrderStatPriorSNR,\\\n",
    "                                                          param_name='SNR',\\\n",
    "                                                          nmax= 6,\\\n",
    "                                                          nested_conditional_transdimensional_params=['SNR'],\\\n",
    "                                                          conditional_transdimensional_params=[],\\\n",
    "                                                          conditional_params=['n_gauss_pulse'],\\\n",
    "                                                          prior_dict_to_add=priors,\\\n",
    "                                                          SaveConditionFunctionsToFile=False,\\\n",
    "                                                          minimum= 0,maximum=10,prev_val=10,this_order_num=1)\n",
    "\n",
    "priors[\"mu0\"] = bilby.core.prior.Uniform(0, 150, \"SNR0\")\n",
    "priors[\"mu1\"] = bilby.core.prior.Uniform(0, 150, \"SNR1\")\n",
    "priors[\"mu2\"] = bilby.core.prior.Uniform(0, 150, \"SNR2\")\n",
    "priors[\"mu3\"] = bilby.core.prior.Uniform(0, 150, \"SNR3\")\n",
    "priors[\"mu4\"] = bilby.core.prior.Uniform(0, 150, \"SNR4\")\n",
    "priors[\"mu5\"] = bilby.core.prior.Uniform(0, 150, \"SNR5\")\n",
    "priors[\"sigma_g0\"] = bilby.core.prior.Uniform(5, 20, \"sigma_g0\")\n",
    "priors[\"sigma_g1\"] = bilby.core.prior.Uniform(5, 20, \"sigma_g1\")\n",
    "priors[\"sigma_g2\"] = bilby.core.prior.Uniform(5, 20, \"sigma_g2\")\n",
    "priors[\"sigma_g3\"] = bilby.core.prior.Uniform(5, 20, \"sigma_g3\")\n",
    "priors[\"sigma_g4\"] = bilby.core.prior.Uniform(5, 20, \"sigma_g4\")\n",
    "priors[\"sigma_g5\"] = bilby.core.prior.Uniform(5, 20, \"sigma_g5\")\n",
    "priors[\"sigma\"] = 0.15\n",
    "\n",
    "priors['n_gauss_pulse'] = tbilby.core.prior.DiscreteUniform(1,6,'n_dimension')"
   ]
  },
  {
   "cell_type": "code",
   "execution_count": 15,
   "id": "f33ce2dc-d483-43b9-86bb-59afa46247d0",
   "metadata": {},
   "outputs": [],
   "source": [
    "result = bilby.core.sampler.run_sampler(\n",
    "    likelihood,\n",
    "    priors=priors,\n",
    "    sampler=\"dynesty\",\n",
    "    outdir='outdir',\n",
    "    label='dynesty',\n",
    "    sample='acceptance-walk',\n",
    "    nlive= 1000,\n",
    "    naccept= 60,\n",
    "    resume=True,\n",
    "    npool=1,\n",
    ")"
   ]
  },
  {
   "cell_type": "code",
   "execution_count": null,
   "id": "01a5862a-3889-403a-8180-1b815e57b054",
   "metadata": {},
   "outputs": [],
   "source": []
  }
 ],
 "metadata": {
  "kernelspec": {
   "display_name": "hyper_bilby",
   "language": "python",
   "name": "hyper_bilby"
  },
  "language_info": {
   "codemirror_mode": {
    "name": "ipython",
    "version": 3
   },
   "file_extension": ".py",
   "mimetype": "text/x-python",
   "name": "python",
   "nbconvert_exporter": "python",
   "pygments_lexer": "ipython3",
   "version": "3.10.12"
  }
 },
 "nbformat": 4,
 "nbformat_minor": 5
}
