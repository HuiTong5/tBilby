{
 "cells": [
  {
   "cell_type": "code",
   "execution_count": 5,
   "id": "a68806cf-8c4d-474b-8b83-59aadbb9e54d",
   "metadata": {},
   "outputs": [],
   "source": [
    "import bilby\n",
    "import tbilby\n",
    "import numpy as np\n",
    "import matplotlib.pyplot as plt\n",
    "from scipy.stats import norm\n",
    "from bilby.core.result import read_in_result\n",
    "import pandas as pd\n",
    "from corner import corner\n",
    "import matplotlib.lines as mlines"
   ]
  },
  {
   "cell_type": "code",
   "execution_count": 6,
   "id": "f8cbe3eb-a88a-4f55-88aa-50495e567a89",
   "metadata": {},
   "outputs": [],
   "source": [
    "x=np.linspace(0,150,1501)\n",
    "mu=np.array([35, 74, 101])\n",
    "\n",
    "model=[]\n",
    "mock_data=[]\n",
    "sigma=[10,8,12]\n",
    "A=[1.0,0.8,1.2]\n",
    "# sigma=[10,10,10]\n",
    "# A=[1.0,1.0,1.0]\n",
    "for i in range(3):\n",
    "    model.append(norm(mu[i],sigma[i]))\n",
    "    mock_data.append(A[i]*model[i].pdf(x))\n",
    "    \n",
    "noise_model=norm(loc=0,scale=0.15)\n",
    "np.random.seed(1234)\n",
    "mock_noise=noise_model.rvs(1501)\n",
    "\n",
    "data=mock_data[0]+mock_data[1]+mock_data[2]+mock_noise"
   ]
  },
  {
   "cell_type": "code",
   "execution_count": 7,
   "id": "c0c0f148-a23a-42aa-94a9-2ae8ac9901b3",
   "metadata": {},
   "outputs": [],
   "source": [
    "n_peaks=6"
   ]
  },
  {
   "cell_type": "code",
   "execution_count": 8,
   "id": "9419a7db-9eb6-40c2-84ae-00e9514d9619",
   "metadata": {},
   "outputs": [],
   "source": [
    "def gauss_pulse(time, A, mu, sigma):\n",
    "    return A * norm(mu,sigma).pdf(time)"
   ]
  },
  {
   "cell_type": "code",
   "execution_count": 9,
   "id": "588a319e-bf26-4576-9c35-b539343f4209",
   "metadata": {},
   "outputs": [],
   "source": [
    "component_functions_dict={}\n",
    "component_functions_dict[gauss_pulse]=(n_peaks,'mu', 'A', 'sigma')"
   ]
  },
  {
   "cell_type": "code",
   "execution_count": 10,
   "id": "d8ab3a2e-8e4d-41b9-a060-dffbf887674e",
   "metadata": {},
   "outputs": [
    {
     "name": "stdout",
     "output_type": "stream",
     "text": [
      "dict_keys(['__name__', '__doc__', '__package__', '__loader__', '__spec__', '__file__', '__cached__', '__builtins__', 'np', 'pd', 'infer_parameters_from_function', 'bilby', 'DiscreteUniform', 'create_transdimensional_priors', '_create_priors_with_nested_condition_functions', 'create_transdimensional_model', 'create_plain_priors', 'extract_maximal_likelihood_param_values', '_fix_posterior_if_needed', 'preprocess_results', '_recluster_one_dim_posterior_experimental_use_it_wisely', '_group_params_by_numerical_ending', 'gauss_pulse'])\n"
     ]
    }
   ],
   "source": [
    "signal_model = tbilby.core.base.create_transdimensional_model('model',  component_functions_dict,\\\n",
    "                                                       returns_polarization=False,SaveTofile=False)"
   ]
  },
  {
   "cell_type": "code",
   "execution_count": 11,
   "id": "26d3d85a-7a3a-4d26-9608-dd661b7008e2",
   "metadata": {},
   "outputs": [],
   "source": [
    "# Now lets instantiate a version of our GaussianLikelihood, giving it\n",
    "# the time, data and signal model\n",
    "# likelihood = bilby.likelihood.GaussianLikelihood(time, data, model, sigma)\n",
    "time=np.linspace(0,150,1501)\n",
    "likelihood = bilby.likelihood.GaussianLikelihood(time, data, signal_model, sigma=0.15*np.ones(len(time)))"
   ]
  },
  {
   "cell_type": "code",
   "execution_count": 12,
   "id": "f2fbe492-5b1a-4cc4-9eac-48286ce5c8fc",
   "metadata": {},
   "outputs": [],
   "source": [
    "# to define Transdimensional Conditional prior you need to inherit from the relevant prior\n",
    "class TransdimensionalConditionalUniform(tbilby.core.prior.TransdimensionalConditionalUniform):\n",
    "   # one must define the transdimensional_condition_function function, so we know what to do with conditional variables...  \n",
    "    # it is an abstract function, without it you cant instantiate this class \n",
    "    def transdimensional_condition_function(self,**required_variables):\n",
    "        ''' setting the mimmum according the the last peak value of the gaussian.\n",
    "        Here you refer to the parameters you are \n",
    "        working with '''\n",
    "        # mu is returned as an array \n",
    "        \n",
    "        # minimum = self.minimum\n",
    "        # if(len(self.mu)>0): # handle the first mu case\n",
    "        #     minimum = self.mu[-1]               \n",
    "        #     setattr(self,'minimum',minimum)  # setting the atribute of the class\n",
    "        # return dict(minimum=minimum)\n",
    "        minimum = self.minimum\n",
    "        if(len(self.mu)>0): # handle the first mu case\n",
    "            minimum = self.mu[-1]\n",
    "            above = minimum > self.maximum\n",
    "            try:\n",
    "                minimum[above] = self.minimum[0]\n",
    "            except:\n",
    "                minimum[above] = self.minimum\n",
    "        setattr(self,'minimum',minimum)  # setting the atribute of the class\n",
    "            \n",
    "        return dict(minimum=minimum)"
   ]
  },
  {
   "cell_type": "code",
   "execution_count": 13,
   "id": "14495356-baf6-43fb-b15b-59b741aeae73",
   "metadata": {},
   "outputs": [],
   "source": [
    "# prameter_prior\n",
    "priors = bilby.core.prior.dict.ConditionalPriorDict()\n",
    "priors =tbilby.core.base.create_transdimensional_priors(transdimensional_prior_class=TransdimensionalConditionalUniform,\\\n",
    "                                                          param_name='mu',\\\n",
    "                                                          nmax= n_peaks,\\\n",
    "                                                          nested_conditional_transdimensional_params=['mu'],\\\n",
    "                                                          conditional_transdimensional_params=[],\\\n",
    "                                                          conditional_params=[],\\\n",
    "                                                          prior_dict_to_add=priors,\\\n",
    "                                                          SaveConditionFunctionsToFile=False,\\\n",
    "                                                          minimum= 0,maximum=150)\n",
    "priors[\"A0\"] = bilby.core.prior.Uniform(0.5, 1.5, \"A0\")\n",
    "priors[\"A1\"] = bilby.core.prior.Uniform(0.5, 1.5, \"A1\")\n",
    "priors[\"A2\"] = bilby.core.prior.Uniform(0.5, 1.5, \"A2\")\n",
    "priors[\"A3\"] = bilby.core.prior.Uniform(0.5, 1.5, \"A3\")\n",
    "priors[\"A4\"] = bilby.core.prior.Uniform(0.5, 1.5, \"A4\")\n",
    "priors[\"A5\"] = bilby.core.prior.Uniform(0.5, 1.5, \"A5\")\n",
    "priors[\"sigma0\"] = bilby.core.prior.Uniform(5, 20, \"sigma0\")\n",
    "priors[\"sigma1\"] = bilby.core.prior.Uniform(5, 20, \"sigma1\")\n",
    "priors[\"sigma2\"] = bilby.core.prior.Uniform(5, 20, \"sigma2\")\n",
    "priors[\"sigma3\"] = bilby.core.prior.Uniform(5, 20, \"sigma3\")\n",
    "priors[\"sigma4\"] = bilby.core.prior.Uniform(5, 20, \"sigma4\")\n",
    "priors[\"sigma5\"] = bilby.core.prior.Uniform(5, 20, \"sigma5\")\n",
    "\n",
    "priors['n_gauss_pulse'] = tbilby.core.prior.DiscreteUniform(0,n_peaks,'n_gauss_pulse')"
   ]
  },
  {
   "cell_type": "code",
   "execution_count": 15,
   "id": "f33ce2dc-d483-43b9-86bb-59afa46247d0",
   "metadata": {},
   "outputs": [],
   "source": [
    "result = bilby.core.sampler.run_sampler(\n",
    "    likelihood,\n",
    "    priors=priors,\n",
    "    sampler=\"dynesty\",\n",
    "    outdir='dynesty_full_more',\n",
    "    label='dynesty',\n",
    "    nlive= 1000,\n",
    "    resume=True,\n",
    "    npool=1,\n",
    ")"
   ]
  },
  {
   "cell_type": "code",
   "execution_count": null,
   "id": "01a5862a-3889-403a-8180-1b815e57b054",
   "metadata": {},
   "outputs": [],
   "source": []
  }
 ],
 "metadata": {
  "kernelspec": {
   "display_name": "hyper_bilby",
   "language": "python",
   "name": "hyper_bilby"
  },
  "language_info": {
   "codemirror_mode": {
    "name": "ipython",
    "version": 3
   },
   "file_extension": ".py",
   "mimetype": "text/x-python",
   "name": "python",
   "nbconvert_exporter": "python",
   "pygments_lexer": "ipython3",
   "version": "3.10.12"
  }
 },
 "nbformat": 4,
 "nbformat_minor": 5
}
